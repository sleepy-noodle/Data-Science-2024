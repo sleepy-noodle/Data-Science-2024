{
 "cells": [
  {
   "cell_type": "markdown",
   "id": "d36e48de-74ca-4e4d-be3c-9da678e9040e",
   "metadata": {},
   "source": [
    "# Data Science Tools and Ecosystem"
   ]
  },
  {
   "cell_type": "markdown",
   "id": "7bb1ef37-3e3a-4e92-b863-a74add65261f",
   "metadata": {},
   "source": [
    "In this notebook, Data Science Tools and Ecosystem are summarized."
   ]
  },
  {
   "cell_type": "markdown",
   "id": "0bbc75d1-3b9e-4f46-b9d6-47d298711642",
   "metadata": {},
   "source": [
    "## Author\n",
    "Xin Li"
   ]
  },
  {
   "cell_type": "markdown",
   "id": "31d1060d-d45a-45f3-9e10-a3de58f66ebf",
   "metadata": {},
   "source": [
    "**Objectives:**\n",
    "  - List popular languages\n",
    "  - List commonly used libraries\n",
    "  - List data science tools\n"
   ]
  },
  {
   "cell_type": "markdown",
   "id": "b44f4ef2-050d-4ea7-9d10-5d433f306424",
   "metadata": {},
   "source": [
    "Some of the popular languages that Data Scientists use are:\n",
    "1. Python\n",
    "2. R\n",
    "3. SQL\n",
    "4. JAVA"
   ]
  },
  {
   "cell_type": "markdown",
   "id": "4a0c158b-e764-4666-9d4f-f1b473c24b7a",
   "metadata": {},
   "source": [
    "Some of the commonly used libraries used by Data Scientists include:\n",
    "1. Pandas\n",
    "2. NumPy\n",
    "3. Matplotlib\n",
    "4. Keras\n",
    "5. TensorFlow"
   ]
  },
  {
   "cell_type": "markdown",
   "id": "7183543e-77d8-4bee-9718-c69a79eb3a12",
   "metadata": {},
   "source": [
    "|Data Science Tools|\n",
    "|------------------|\n",
    "|JupyterLab|\n",
    "|VS Code|\n",
    "|Bracket|\n"
   ]
  },
  {
   "cell_type": "markdown",
   "id": "f12ec52c-24ff-4424-9877-1348b1e76455",
   "metadata": {},
   "source": [
    "### Below are a few examples of evaluating arithmetic expressions in Python"
   ]
  },
  {
   "cell_type": "code",
   "execution_count": 1,
   "id": "71070497-8ed7-4996-8ca0-2d5e673c9098",
   "metadata": {},
   "outputs": [
    {
     "data": {
      "text/plain": [
       "17"
      ]
     },
     "execution_count": 1,
     "metadata": {},
     "output_type": "execute_result"
    }
   ],
   "source": [
    "#This a simple arithmetic expression to mutiply then add integers\n",
    "(3*4)+5"
   ]
  },
  {
   "cell_type": "code",
   "execution_count": 2,
   "id": "66a43c23-8bc9-40c7-8e65-cbe28d028ab4",
   "metadata": {},
   "outputs": [
    {
     "data": {
      "text/plain": [
       "3.3333333333333335"
      ]
     },
     "execution_count": 2,
     "metadata": {},
     "output_type": "execute_result"
    }
   ],
   "source": [
    "#This will convert 200 minutes to hours by diving by 60\n",
    "200/60"
   ]
  },
  {
   "cell_type": "code",
   "execution_count": null,
   "id": "5b80d2f4-044c-4a78-a5a0-5e2c61fa8ca8",
   "metadata": {},
   "outputs": [],
   "source": []
  }
 ],
 "metadata": {
  "kernelspec": {
   "display_name": "Python 3 (ipykernel)",
   "language": "python",
   "name": "python3"
  },
  "language_info": {
   "codemirror_mode": {
    "name": "ipython",
    "version": 3
   },
   "file_extension": ".py",
   "mimetype": "text/x-python",
   "name": "python",
   "nbconvert_exporter": "python",
   "pygments_lexer": "ipython3",
   "version": "3.12.6"
  }
 },
 "nbformat": 4,
 "nbformat_minor": 5
}
